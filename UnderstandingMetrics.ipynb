{
  "nbformat": 4,
  "nbformat_minor": 0,
  "metadata": {
    "colab": {
      "name": "UnderstandingMetrics.ipynb",
      "version": "0.3.2",
      "provenance": [],
      "collapsed_sections": [],
      "include_colab_link": true
    },
    "kernelspec": {
      "name": "python3",
      "display_name": "Python 3"
    },
    "accelerator": "GPU"
  },
  "cells": [
    {
      "cell_type": "markdown",
      "metadata": {
        "id": "view-in-github",
        "colab_type": "text"
      },
      "source": [
        "[View in Colaboratory](https://colab.research.google.com/github/goswami-rahul/ml-practice/blob/master/UnderstandingMetrics.ipynb)"
      ]
    },
    {
      "metadata": {
        "id": "A_5noAffQiFu",
        "colab_type": "text"
      },
      "cell_type": "markdown",
      "source": [
        "# Understanding Metrics of Classification  \n",
        "Rahul Goswami"
      ]
    },
    {
      "metadata": {
        "id": "ZEfpi-qnQhvI",
        "colab_type": "text"
      },
      "cell_type": "markdown",
      "source": [
        "This notebook aims to make a clear understanding of the different metrics used to determine the performance of any classifier. We will calculate different metrics and see what it represents.  \n",
        "Lets start with importing necessary libraries."
      ]
    },
    {
      "metadata": {
        "id": "eXSU_fk7RlEM",
        "colab_type": "text"
      },
      "cell_type": "markdown",
      "source": [
        "### Importing libraries"
      ]
    },
    {
      "metadata": {
        "id": "Sx4KZX7cF8Yd",
        "colab_type": "code",
        "colab": {}
      },
      "cell_type": "code",
      "source": [
        "import numpy as np\n",
        "import pandas as pd\n",
        "from sklearn.datasets import load_breast_cancer\n",
        "from sklearn.model_selection import train_test_split\n",
        "from sklearn import svm\n",
        "from sklearn import metrics\n",
        "import matplotlib.pyplot as plt\n",
        "import seaborn as sns\n",
        "import itertools\n",
        "\n",
        "np.random.seed(42)\n",
        "sns.set(rc={\"figure.figsize\": (8, 8)})\n",
        "sns.set_style(\"ticks\")"
      ],
      "execution_count": 0,
      "outputs": []
    },
    {
      "metadata": {
        "id": "0pddJrEbRtbr",
        "colab_type": "text"
      },
      "cell_type": "markdown",
      "source": [
        "### Dataset\n",
        "We will use the [Breast Cancer Dataset](https://goo.gl/U2Uwz2) which is provided by sckit-learn in `dataset` module."
      ]
    },
    {
      "metadata": {
        "id": "glPEglrYGV6f",
        "colab_type": "code",
        "colab": {
          "base_uri": "https://localhost:8080/",
          "height": 403
        },
        "outputId": "ae67651c-dc0b-442f-cac2-804e100df22b"
      },
      "cell_type": "code",
      "source": [
        "data = load_breast_cancer()\n",
        "print(data.DESCR[:760])"
      ],
      "execution_count": 232,
      "outputs": [
        {
          "output_type": "stream",
          "text": [
            "Breast Cancer Wisconsin (Diagnostic) Database\n",
            "=============================================\n",
            "\n",
            "Notes\n",
            "-----\n",
            "Data Set Characteristics:\n",
            "    :Number of Instances: 569\n",
            "\n",
            "    :Number of Attributes: 30 numeric, predictive attributes and the class\n",
            "\n",
            "    :Attribute Information:\n",
            "        - radius (mean of distances from center to points on the perimeter)\n",
            "        - texture (standard deviation of gray-scale values)\n",
            "        - perimeter\n",
            "        - area\n",
            "        - smoothness (local variation in radius lengths)\n",
            "        - compactness (perimeter^2 / area - 1.0)\n",
            "        - concavity (severity of concave portions of the contour)\n",
            "        - concave points (number of concave portions of the contour)\n",
            "        - symmetry \n",
            "        - fractal dimension (\"coastline approximation\" - 1)\n",
            "\n",
            " \n"
          ],
          "name": "stdout"
        }
      ]
    },
    {
      "metadata": {
        "id": "XQyaWAlhSTLL",
        "colab_type": "text"
      },
      "cell_type": "markdown",
      "source": [
        "See what are the targets."
      ]
    },
    {
      "metadata": {
        "id": "bStQWeSOSSp2",
        "colab_type": "code",
        "colab": {
          "base_uri": "https://localhost:8080/",
          "height": 34
        },
        "outputId": "4569970b-a1c2-4910-9154-f0105d9aa87d"
      },
      "cell_type": "code",
      "source": [
        "print(f\"Targets are {data.target_names}\")"
      ],
      "execution_count": 233,
      "outputs": [
        {
          "output_type": "stream",
          "text": [
            "Targets are ['malignant' 'benign']\n"
          ],
          "name": "stdout"
        }
      ]
    },
    {
      "metadata": {
        "id": "JizLx4ZfSZ-y",
        "colab_type": "text"
      },
      "cell_type": "markdown",
      "source": [
        "What is the dimension of data?  \n",
        "We see there are **569 examples** and each example has **30 features**.  \n",
        "The **target** variable is binary (**0 and 1** for `malignant` and `benign`).  \n",
        "We can understand it as:  \n",
        "`0 for is_not_benign`  \n",
        "`1 for is_benign`"
      ]
    },
    {
      "metadata": {
        "id": "xG-br8XcHXHC",
        "colab_type": "code",
        "colab": {
          "base_uri": "https://localhost:8080/",
          "height": 34
        },
        "outputId": "9f8a51a5-712b-40f8-fee3-334a9f925671"
      },
      "cell_type": "code",
      "source": [
        "X = data.data\n",
        "y = data.target\n",
        "print(X.shape, y.shape)"
      ],
      "execution_count": 234,
      "outputs": [
        {
          "output_type": "stream",
          "text": [
            "(569, 30) (569,)\n"
          ],
          "name": "stdout"
        }
      ]
    },
    {
      "metadata": {
        "id": "LFbPZCqCIwcJ",
        "colab_type": "code",
        "colab": {
          "base_uri": "https://localhost:8080/",
          "height": 34
        },
        "outputId": "2a279ce4-7ce4-4173-e027-da03f67cab93"
      },
      "cell_type": "code",
      "source": [
        "y[:5]"
      ],
      "execution_count": 235,
      "outputs": [
        {
          "output_type": "execute_result",
          "data": {
            "text/plain": [
              "array([0, 0, 0, 0, 0])"
            ]
          },
          "metadata": {
            "tags": []
          },
          "execution_count": 235
        }
      ]
    },
    {
      "metadata": {
        "id": "zpdfCVt8TW5K",
        "colab_type": "text"
      },
      "cell_type": "markdown",
      "source": [
        "Since we shouldn't train and test our model with the same dataset, it is always a good idea to split the data in three parts - train data, test data, and validation data.  \n",
        "We won't require validation data here.\n",
        "We split the dataset into training and testing data, with 369 examples for training, and 200 examples for testing."
      ]
    },
    {
      "metadata": {
        "id": "QsgrNr2RINsN",
        "colab_type": "code",
        "colab": {}
      },
      "cell_type": "code",
      "source": [
        "X_train, X_test, y_train, y_test = train_test_split(X, y, test_size=200, random_state=42, stratify=y)"
      ],
      "execution_count": 0,
      "outputs": []
    },
    {
      "metadata": {
        "id": "YAU7JsyNJhc-",
        "colab_type": "code",
        "colab": {
          "base_uri": "https://localhost:8080/",
          "height": 34
        },
        "outputId": "75fb5829-be83-4d0b-b486-aceca9dc10f9"
      },
      "cell_type": "code",
      "source": [
        "y_train[:10]"
      ],
      "execution_count": 237,
      "outputs": [
        {
          "output_type": "execute_result",
          "data": {
            "text/plain": [
              "array([1, 1, 1, 1, 0, 1, 1, 1, 0, 1])"
            ]
          },
          "metadata": {
            "tags": []
          },
          "execution_count": 237
        }
      ]
    },
    {
      "metadata": {
        "id": "DVCi5RMsJE-O",
        "colab_type": "text"
      },
      "cell_type": "markdown",
      "source": [
        "### Training and predicting data"
      ]
    },
    {
      "metadata": {
        "id": "4iRqwJU-TmIt",
        "colab_type": "text"
      },
      "cell_type": "markdown",
      "source": [
        "In this example, we will use scikit's Support Vector Machines classifier to predict whether its a benign cancer.  \n",
        "`SVC` classifier is used from `sklearn.svm`. Ofcourse, we can try any of the other classifiers and compare accuracies."
      ]
    },
    {
      "metadata": {
        "id": "4pKL5VoJKh8A",
        "colab_type": "code",
        "colab": {}
      },
      "cell_type": "code",
      "source": [
        "classifier = svm.SVC(kernel='linear', probability=True, verbose=True)"
      ],
      "execution_count": 0,
      "outputs": []
    },
    {
      "metadata": {
        "id": "6DwkhGMyT2BJ",
        "colab_type": "text"
      },
      "cell_type": "markdown",
      "source": [
        "Next we fit/train the model on our _training dataset_. It trains quite fast since we are working with relatively small dataset."
      ]
    },
    {
      "metadata": {
        "id": "1rj0E-XnLWaH",
        "colab_type": "code",
        "colab": {
          "base_uri": "https://localhost:8080/",
          "height": 84
        },
        "outputId": "6954a487-89b4-490a-a474-2f459ade57af"
      },
      "cell_type": "code",
      "source": [
        "classifier.fit(X_train, y_train)"
      ],
      "execution_count": 239,
      "outputs": [
        {
          "output_type": "stream",
          "text": [
            "[LibSVM]"
          ],
          "name": "stdout"
        },
        {
          "output_type": "execute_result",
          "data": {
            "text/plain": [
              "SVC(C=1.0, cache_size=200, class_weight=None, coef0=0.0,\n",
              "  decision_function_shape='ovr', degree=3, gamma='auto', kernel='linear',\n",
              "  max_iter=-1, probability=True, random_state=None, shrinking=True,\n",
              "  tol=0.001, verbose=True)"
            ]
          },
          "metadata": {
            "tags": []
          },
          "execution_count": 239
        }
      ]
    },
    {
      "metadata": {
        "id": "hZvqwrrAT6UV",
        "colab_type": "text"
      },
      "cell_type": "markdown",
      "source": [
        "Now save the prediction results both as probability and as classes.  \n",
        "`y_preds` is a 1D vector of one of `{0, 1}` values, denoting predictions as malignant and benign, respectively.  \n",
        "`y_proba` is a 2D vector, where for each example, it contains a vector of length 2,  \n",
        "`[prob. of malignant, prob. of benign]`"
      ]
    },
    {
      "metadata": {
        "id": "1PdjKHbfT6AX",
        "colab_type": "code",
        "colab": {}
      },
      "cell_type": "code",
      "source": [
        "y_preds = classifier.predict(X_test)\n",
        "y_proba = classifier.predict_proba(X_test)"
      ],
      "execution_count": 0,
      "outputs": []
    },
    {
      "metadata": {
        "id": "b-9Dsn3yGXx7",
        "colab_type": "text"
      },
      "cell_type": "markdown",
      "source": [
        "We need to reshape `y_proba` to a 1D vector denoting the probability of being benign."
      ]
    },
    {
      "metadata": {
        "id": "To9oQknC19dh",
        "colab_type": "code",
        "colab": {}
      },
      "cell_type": "code",
      "source": [
        "y_proba = y_proba[:,1].reshape((y_proba.shape[0],))"
      ],
      "execution_count": 0,
      "outputs": []
    },
    {
      "metadata": {
        "id": "J_VDguyUL7fu",
        "colab_type": "code",
        "colab": {
          "base_uri": "https://localhost:8080/",
          "height": 84
        },
        "outputId": "8b16a72a-3fda-4f4a-bbdf-9c76a62aab3a"
      },
      "cell_type": "code",
      "source": [
        "y_proba[:8], y_preds[:8], y_test[:8]"
      ],
      "execution_count": 242,
      "outputs": [
        {
          "output_type": "execute_result",
          "data": {
            "text/plain": [
              "(array([0.99600796, 0.0948797 , 0.99998451, 0.96319115, 0.99999806,\n",
              "        0.05545252, 0.79755867, 0.00406141]),\n",
              " array([1, 0, 1, 1, 1, 0, 1, 0]),\n",
              " array([1, 0, 1, 1, 1, 0, 1, 0]))"
            ]
          },
          "metadata": {
            "tags": []
          },
          "execution_count": 242
        }
      ]
    },
    {
      "metadata": {
        "id": "QM2WA4_FJfgT",
        "colab_type": "text"
      },
      "cell_type": "markdown",
      "source": [
        "### Confusion Matrix"
      ]
    },
    {
      "metadata": {
        "id": "oRlwTUnBMTwv",
        "colab_type": "code",
        "colab": {}
      },
      "cell_type": "code",
      "source": [
        "# helper function to plot confusion matrix \n",
        "# (http://scikit-learn.org/stable/_downloads/plot_confusion_matrix.py)\n",
        "def plot_confusion_matrix(cm, classes,\n",
        "                          normalize=False,\n",
        "                          title='Confusion matrix',\n",
        "                          cmap=plt.cm.Blues):\n",
        "    \"\"\"\n",
        "    This function prints and plots the confusion matrix.\n",
        "    Normalization can be applied by setting `normalize=True`.\n",
        "    \"\"\"\n",
        "    if normalize:\n",
        "        cm = cm.astype('float') / cm.sum(axis=1)[:, np.newaxis]\n",
        "        print(\"Normalized confusion matrix\")\n",
        "    else:\n",
        "        print('Confusion matrix, without normalization')\n",
        "\n",
        "    print(cm)\n",
        "\n",
        "    plt.imshow(cm, interpolation='nearest', cmap=cmap)\n",
        "    plt.title(title)\n",
        "    plt.colorbar()\n",
        "    tick_marks = np.arange(len(classes))\n",
        "    plt.xticks(tick_marks, classes, rotation=45)\n",
        "    plt.yticks(tick_marks, classes)\n",
        "\n",
        "    fmt = '.2f' if normalize else 'd'\n",
        "    thresh = cm.max() / 2.\n",
        "    for i, j in itertools.product(range(cm.shape[0]), range(cm.shape[1])):\n",
        "        plt.text(j, i, format(cm[i, j], fmt),\n",
        "                 horizontalalignment=\"center\",\n",
        "                 color=\"white\" if cm[i, j] > thresh else \"black\")\n",
        "\n",
        "    plt.tight_layout()\n",
        "    plt.ylabel('True label')\n",
        "    plt.xlabel('Predicted label')"
      ],
      "execution_count": 0,
      "outputs": []
    },
    {
      "metadata": {
        "id": "HEtVeYiBUDvH",
        "colab_type": "text"
      },
      "cell_type": "markdown",
      "source": [
        "Calculate confusion matrix of the predictions"
      ]
    },
    {
      "metadata": {
        "id": "gXSq_kfcN8U8",
        "colab_type": "code",
        "colab": {}
      },
      "cell_type": "code",
      "source": [
        "conf = metrics.confusion_matrix(y_test, y_preds)"
      ],
      "execution_count": 0,
      "outputs": []
    },
    {
      "metadata": {
        "id": "PiSZNOpnOeYu",
        "colab_type": "code",
        "colab": {
          "base_uri": "https://localhost:8080/",
          "height": 631
        },
        "outputId": "d8cb4095-7934-459e-bbc0-931f0bc3674f"
      },
      "cell_type": "code",
      "source": [
        "plot_confusion_matrix(conf, [0, 1])"
      ],
      "execution_count": 245,
      "outputs": [
        {
          "output_type": "stream",
          "text": [
            "Confusion matrix, without normalization\n",
            "[[ 68   7]\n",
            " [  2 123]]\n"
          ],
          "name": "stdout"
        },
        {
          "output_type": "display_data",
          "data": {
            "image/png": "[encoded data removed]",
            "text/plain": [
              "<matplotlib.figure.Figure at 0x7fb969913c88>"
            ]
          },
          "metadata": {
            "tags": []
          }
        }
      ]
    },
    {
      "metadata": {
        "id": "v81eYMJ0UM29",
        "colab_type": "text"
      },
      "cell_type": "markdown",
      "source": [
        "From the confusion matrix, we can see the number of examples predicted correct by our classifier, for both classes seperately.  \n",
        "We can get the numbers of `True Positives, True Negatives, False Positives, and False Negatives` from this confusion matrix.   \n",
        "Lets store these terms in some variables."
      ]
    },
    {
      "metadata": {
        "id": "gjTIQRccOr-A",
        "colab_type": "code",
        "colab": {}
      },
      "cell_type": "code",
      "source": [
        "# from the confusion matrix\n",
        "TP = true_pos = 123\n",
        "TN = true_neg = 68\n",
        "FP = false_pos = 7\n",
        "FN = false_neg = 2"
      ],
      "execution_count": 0,
      "outputs": []
    },
    {
      "metadata": {
        "id": "USDonfT5Jpr2",
        "colab_type": "text"
      },
      "cell_type": "markdown",
      "source": [
        "### Some basic metrics"
      ]
    },
    {
      "metadata": {
        "id": "X5dcb4jEPpDR",
        "colab_type": "text"
      },
      "cell_type": "markdown",
      "source": [
        "Now, we will calculate some basic metrics from these four values.  \n",
        "We will need a dictionary to store these metrics. Lets create a dictionary `results`."
      ]
    },
    {
      "metadata": {
        "id": "wFE2EKmxV_Xx",
        "colab_type": "code",
        "colab": {}
      },
      "cell_type": "code",
      "source": [
        "results = {}"
      ],
      "execution_count": 0,
      "outputs": []
    },
    {
      "metadata": {
        "id": "U6O_iUIHZqgj",
        "colab_type": "text"
      },
      "cell_type": "markdown",
      "source": [
        "#### Accuracy \n",
        "number of examples correctly predicted / total number of examples  \n",
        "![alt text](https://wikimedia.org/api/rest_v1/media/math/render/svg/c72ec21ef2505c2d376e96197637fc64f75e5891)"
      ]
    },
    {
      "metadata": {
        "id": "4y3hcfI0WFfv",
        "colab_type": "code",
        "colab": {
          "base_uri": "https://localhost:8080/",
          "height": 34
        },
        "outputId": "c558f63e-f433-457d-ea39-f736008bf4fc"
      },
      "cell_type": "code",
      "source": [
        "metric = \"ACC\"\n",
        "results[metric] = (TP + TN) / (TP + TN + FP + FN)\n",
        "print(f\"{metric} is {results[metric]: .3f}\")"
      ],
      "execution_count": 248,
      "outputs": [
        {
          "output_type": "stream",
          "text": [
            "ACC is  0.955\n"
          ],
          "name": "stdout"
        }
      ]
    },
    {
      "metadata": {
        "id": "vjmFM1v_Z_a8",
        "colab_type": "text"
      },
      "cell_type": "markdown",
      "source": [
        "#### True Positive Rate\n",
        "number of samples actually and predicted as  `Positive` / total number of samples actually `Positive`  \n",
        "Also called **Sensitivity or Recall**.  \n",
        "![alt text](https://wikimedia.org/api/rest_v1/media/math/render/svg/64d5540cbadeb83f864d7a731b7ab43cccd0f353)\n"
      ]
    },
    {
      "metadata": {
        "id": "q8JoI-S6WKMS",
        "colab_type": "code",
        "colab": {
          "base_uri": "https://localhost:8080/",
          "height": 34
        },
        "outputId": "48a2be6b-bcfe-4aff-d6cc-f57503e9f38e"
      },
      "cell_type": "code",
      "source": [
        "# Sensitivity or Recall\n",
        "metric = \"TPR\"\n",
        "results[metric] = TP / (TP + FN)\n",
        "print(f\"{metric} is {results[metric]: .3f}\")"
      ],
      "execution_count": 249,
      "outputs": [
        {
          "output_type": "stream",
          "text": [
            "TPR is  0.984\n"
          ],
          "name": "stdout"
        }
      ]
    },
    {
      "metadata": {
        "id": "f6y1c1SDa0Lg",
        "colab_type": "text"
      },
      "cell_type": "markdown",
      "source": [
        "#### True Negative Rate\n",
        "number of samples actually and predicted as  `Negative` / total number of samples actually  `Negative`  \n",
        "Also called **Specificity**.  \n",
        "![alt text](https://wikimedia.org/api/rest_v1/media/math/render/svg/aac65b6586cb61c1268403895012c2a8f19b0c5e)\n"
      ]
    },
    {
      "metadata": {
        "id": "rkRmDKjSYLYE",
        "colab_type": "code",
        "colab": {
          "base_uri": "https://localhost:8080/",
          "height": 34
        },
        "outputId": "b1283224-f5ba-4328-9e80-2fa42945eea5"
      },
      "cell_type": "code",
      "source": [
        "# Specificity\n",
        "metric = \"TNR\"\n",
        "results[metric] = TN / (TN + FP)\n",
        "print(f\"{metric} is {results[metric]: .3f}\")"
      ],
      "execution_count": 250,
      "outputs": [
        {
          "output_type": "stream",
          "text": [
            "TNR is  0.907\n"
          ],
          "name": "stdout"
        }
      ]
    },
    {
      "metadata": {
        "id": "qK7WCIlpbDis",
        "colab_type": "text"
      },
      "cell_type": "markdown",
      "source": [
        "#### Positive Predictive Value\n",
        "number of samples actually and predicted as  `Positive` / total number of samples predicted as `Positive`  \n",
        "Also called **Precision**.  \n",
        "![alt text](https://wikimedia.org/api/rest_v1/media/math/render/svg/699fcdb880b7f6a92742bc0845b8b60b59806a98)\n"
      ]
    },
    {
      "metadata": {
        "id": "lNgS7UwfYce9",
        "colab_type": "code",
        "colab": {
          "base_uri": "https://localhost:8080/",
          "height": 34
        },
        "outputId": "058d2b12-6a9e-4f24-fa7e-ff82525b3492"
      },
      "cell_type": "code",
      "source": [
        "# Precision\n",
        "metric = \"PPV\"\n",
        "results[metric] = TP / (TP + FP)\n",
        "print(f\"{metric} is {results[metric]: .3f}\")"
      ],
      "execution_count": 251,
      "outputs": [
        {
          "output_type": "stream",
          "text": [
            "PPV is  0.946\n"
          ],
          "name": "stdout"
        }
      ]
    },
    {
      "metadata": {
        "id": "VBPShM1JdQpO",
        "colab_type": "text"
      },
      "cell_type": "markdown",
      "source": [
        "#### Negative Predictive Value\n",
        "number of samples actually and predicted as  `Negative` / total number of samples predicted as `Negative`    \n",
        "![alt text](https://wikimedia.org/api/rest_v1/media/math/render/svg/b6da0f59faffbc1704974e97847ab4fa599f5521)\n"
      ]
    },
    {
      "metadata": {
        "id": "qAAhCMaOdsSn",
        "colab_type": "code",
        "colab": {
          "base_uri": "https://localhost:8080/",
          "height": 34
        },
        "outputId": "e1cdb5be-fcbd-4df7-a09d-4cd70e67fd3d"
      },
      "cell_type": "code",
      "source": [
        "metric = \"NPV\"\n",
        "results[metric] = TN / (TN + FN)\n",
        "print(f\"{metric} is {results[metric]: .3f}\")"
      ],
      "execution_count": 252,
      "outputs": [
        {
          "output_type": "stream",
          "text": [
            "NPV is  0.971\n"
          ],
          "name": "stdout"
        }
      ]
    },
    {
      "metadata": {
        "id": "D6mxQtZyfIte",
        "colab_type": "text"
      },
      "cell_type": "markdown",
      "source": [
        "#### F1 score\n",
        "Harmonic Mean of Precision and Recall.  \n",
        "![alt text](https://wikimedia.org/api/rest_v1/media/math/render/svg/5663ca95d471868169c4e4ea57c936f1b6f4a588)"
      ]
    },
    {
      "metadata": {
        "id": "8pNnIhEbdzFc",
        "colab_type": "code",
        "colab": {
          "base_uri": "https://localhost:8080/",
          "height": 34
        },
        "outputId": "b303c102-049d-45a3-caf9-c050753eaa8d"
      },
      "cell_type": "code",
      "source": [
        "metric = \"F1\"\n",
        "results[metric] = 2 / (1 / results[\"PPV\"] + 1 / results[\"TPR\"])\n",
        "print(f\"{metric} is {results[metric]: .3f}\")"
      ],
      "execution_count": 253,
      "outputs": [
        {
          "output_type": "stream",
          "text": [
            "F1 is  0.965\n"
          ],
          "name": "stdout"
        }
      ]
    },
    {
      "metadata": {
        "id": "ZF98MS34edwA",
        "colab_type": "text"
      },
      "cell_type": "markdown",
      "source": [
        "#### Matthew's correlation coefficient\n",
        "Matthew's coefficient range between `[-1, 1]`. `0` usually means totally random predictions. `1` means a perfect classifier.    \n",
        "Here' the formual for MCC  \n",
        "![alt text](https://wikimedia.org/api/rest_v1/media/math/render/svg/5caa90fc15105b74b59a30bbc9cc2e5bd43a13b7)"
      ]
    },
    {
      "metadata": {
        "id": "IxtxoxxmgZxI",
        "colab_type": "code",
        "colab": {
          "base_uri": "https://localhost:8080/",
          "height": 34
        },
        "outputId": "d481b117-cd80-4514-da8a-df094aa7a312"
      },
      "cell_type": "code",
      "source": [
        "metric = \"MCC\"\n",
        "num = TP * TN - FP * FN\n",
        "den = ((TP + FP) * (TP + FN) * (TN + FP) * (TN + FN)) ** 0.5\n",
        "results[metric] = num / den\n",
        "print(f\"{metric} is {results[metric]: .3f}\")"
      ],
      "execution_count": 254,
      "outputs": [
        {
          "output_type": "stream",
          "text": [
            "MCC is  0.904\n"
          ],
          "name": "stdout"
        }
      ]
    },
    {
      "metadata": {
        "id": "4S-Do05vg9js",
        "colab_type": "text"
      },
      "cell_type": "markdown",
      "source": [
        "### Comparing these calculated metrics\n",
        "Let's check if these values match with the values calculated from `scikit-learn`'s functions."
      ]
    },
    {
      "metadata": {
        "id": "7R0RMkI0krAp",
        "colab_type": "code",
        "colab": {
          "base_uri": "https://localhost:8080/",
          "height": 101
        },
        "outputId": "25da4d74-1308-4de8-bac2-cca57d315a45"
      },
      "cell_type": "code",
      "source": [
        "print(f\"Calculated and Actual Accuracy:                          {results['ACC']: .3f}, {metrics.accuracy_score(y_test, y_preds): .3f}\")\n",
        "print(f\"Calculated and Actual Precision score:                   {results['PPV']: .3f}, {metrics.precision_score(y_test, y_preds): .3f}\")\n",
        "print(f\"Calculated and Actual Recall score:                      {results['TPR']: .3f}, {metrics.recall_score(y_test, y_preds): .3f}\")\n",
        "print(f\"Calculated and Actual F1 score:                          {results['F1']: .3f}, {metrics.f1_score(y_test, y_preds): .3f}\")\n",
        "print(f\"Calculated and Actual Matthew's correlation coefficient: {results['MCC']: .3f}, {metrics.matthews_corrcoef(y_test, y_preds): .3f}\")"
      ],
      "execution_count": 255,
      "outputs": [
        {
          "output_type": "stream",
          "text": [
            "Calculated and Actual Accuracy:                           0.955,  0.955\n",
            "Calculated and Actual Precision score:                    0.946,  0.946\n",
            "Calculated and Actual Recall score:                       0.984,  0.984\n",
            "Calculated and Actual F1 score:                           0.965,  0.965\n",
            "Calculated and Actual Matthew's correlation coefficient:  0.904,  0.904\n"
          ],
          "name": "stdout"
        }
      ]
    },
    {
      "metadata": {
        "id": "7UI7NWzcpu8p",
        "colab_type": "text"
      },
      "cell_type": "markdown",
      "source": [
        "### ROC curve (Receiver Operating Characteristic curve)\n",
        " A receiver operating characteristic curve, i.e. **ROC curve**, is a graphical plot that illustrates the diagnostic ability of a binary classifier system as its discrimination threshold is varied.  \n",
        " The ROC curve is created by plotting the **True Positive Rate (TPR)** against the **False Positive Rate (FPR)** at various threshold settings.  \n",
        " Let's plot the ROC curve for the Breast Cancer Dataset.  \n",
        " \n",
        " First we will create an ROC curve by calculating values manually at intervaled **thresholds**, then we will compare our results with the `scikit-learn`'s built-in `metrics.roc_curve`."
      ]
    },
    {
      "metadata": {
        "id": "1-gXSQ_HrdnI",
        "colab_type": "code",
        "colab": {}
      },
      "cell_type": "code",
      "source": [
        "def get_roc_curve(y_test, y_proba, delta=0.1):\n",
        "    \"\"\"\n",
        "    Return the True Positive Rates (TPR), False Positive Rates (FPR), \n",
        "    and the threshold values, seperated by delta.\n",
        "    \"\"\"\n",
        "    thresh = list(np.arange(0, 1, delta)) + [1]\n",
        "    TPRs = []\n",
        "    FPRs = []\n",
        "    y_pred = np.empty(y_proba.shape)\n",
        "    for th in thresh:\n",
        "        y_pred[y_proba < th] = 0\n",
        "        y_pred[y_proba >= th] = 1\n",
        "        TPR = metrics.recall_score(y_test, y_pred)\n",
        "        FPR = 1 - TPR\n",
        "        TPRs.append(TPR)\n",
        "        FPRs.append(FPR)\n",
        "    return sorted(FPRs), sorted(TPRs), thresh"
      ],
      "execution_count": 0,
      "outputs": []
    },
    {
      "metadata": {
        "id": "W3iQtSMKJ63N",
        "colab_type": "text"
      },
      "cell_type": "markdown",
      "source": [
        "Here, `delta` is the difference between each of the thresholds at which ROC curve is calculated."
      ]
    },
    {
      "metadata": {
        "id": "2zkIsIz31HGY",
        "colab_type": "code",
        "colab": {}
      },
      "cell_type": "code",
      "source": [
        "delta = 0.001\n",
        "FPRs, TPRs, _ = get_roc_curve(y_test, y_proba, delta)"
      ],
      "execution_count": 0,
      "outputs": []
    },
    {
      "metadata": {
        "id": "Igzm5LZDzsNZ",
        "colab_type": "code",
        "colab": {
          "base_uri": "https://localhost:8080/",
          "height": 518
        },
        "outputId": "1be94a22-16b6-4052-adb1-f1fe9c8ed2eb"
      },
      "cell_type": "code",
      "source": [
        "# Plot the ROC curve\n",
        "plt.plot(FPRs, TPRs, color='red',\n",
        "         lw=2, label='ROC curve')\n",
        "plt.plot([0, 1], [0, 1], color='navy', lw=2, linestyle='--', label=\"Mean\")\n",
        "plt.xlim([-0.05, 1.0])\n",
        "plt.ylim([0.0, 1.05])\n",
        "plt.xlabel('False Positive Rate')\n",
        "plt.ylabel('True Positive Rate')\n",
        "plt.title(f'ROC curve (threshold delta = {delta})')\n",
        "plt.legend(loc=\"lower right\")\n",
        "plt.show()"
      ],
      "execution_count": 258,
      "outputs": [
        {
          "output_type": "display_data",
          "data": {
            "image/png": "[encoded data removed]",
            "text/plain": [
              "<matplotlib.figure.Figure at 0x7fb9698db668>"
            ]
          },
          "metadata": {
            "tags": []
          }
        }
      ]
    },
    {
      "metadata": {
        "id": "q6B3omej42Rk",
        "colab_type": "text"
      },
      "cell_type": "markdown",
      "source": [
        "The peak towards left-most corner means near perfect classifier, while random prediction will have the curve as the blue dotted straight line.  \n",
        "This ROC curve tells us that our model is nearly perfect classifier, with high accuracy :)"
      ]
    },
    {
      "metadata": {
        "id": "SW550-BH5nRb",
        "colab_type": "text"
      },
      "cell_type": "markdown",
      "source": [
        "Let's calculate an ROC curve with random predictions, and plot it to see the difference."
      ]
    },
    {
      "metadata": {
        "id": "o6EvFVw655bo",
        "colab_type": "code",
        "colab": {
          "base_uri": "https://localhost:8080/",
          "height": 34
        },
        "outputId": "7eaca468-20ea-4700-c262-fd3f0c3cace1"
      },
      "cell_type": "code",
      "source": [
        "# create random predictions\n",
        "rand_proba = np.random.random(size=(y_proba.shape))\n",
        "rand_proba[:5]  # 0.5 probability of being 0 or 1"
      ],
      "execution_count": 259,
      "outputs": [
        {
          "output_type": "execute_result",
          "data": {
            "text/plain": [
              "array([0.79654299, 0.18343479, 0.779691  , 0.59685016, 0.44583275])"
            ]
          },
          "metadata": {
            "tags": []
          },
          "execution_count": 259
        }
      ]
    },
    {
      "metadata": {
        "id": "ZNA8dltO6itt",
        "colab_type": "code",
        "colab": {}
      },
      "cell_type": "code",
      "source": [
        "FPRs, TPRs, _ = get_roc_curve(y_test, rand_proba, delta)  # passing random preds"
      ],
      "execution_count": 0,
      "outputs": []
    },
    {
      "metadata": {
        "id": "a-MFHXue2g4C",
        "colab_type": "code",
        "colab": {
          "base_uri": "https://localhost:8080/",
          "height": 518
        },
        "outputId": "acea70d5-5baa-46dd-b717-6b7dba26db9c"
      },
      "cell_type": "code",
      "source": [
        "# Plot the ROC curve\n",
        "plt.plot(FPRs, TPRs, color='red',\n",
        "         lw=2, label='ROC curve')\n",
        "plt.plot([0, 1], [0, 1], color='navy', lw=2, linestyle='--', label=\"Mean\")\n",
        "plt.xlim([-0.05, 1.0])\n",
        "plt.ylim([0.0, 1.05])\n",
        "plt.xlabel('False Positive Rate')\n",
        "plt.ylabel('True Positive Rate')\n",
        "plt.title(f'Random Predictions ROC curve (threshold delta = {delta})')\n",
        "plt.legend(loc=\"lower right\")\n",
        "plt.show()"
      ],
      "execution_count": 261,
      "outputs": [
        {
          "output_type": "display_data",
          "data": {
            "image/png": "[encoded data removed]",
            "text/plain": [
              "<matplotlib.figure.Figure at 0x7fb969890e80>"
            ]
          },
          "metadata": {
            "tags": []
          }
        }
      ]
    },
    {
      "metadata": {
        "id": "JKHS-Skq-IPp",
        "colab_type": "text"
      },
      "cell_type": "markdown",
      "source": [
        "As we can see from the above plot, random predictions give the ROC curve nearly at the mean.  \n",
        "Contrast it with the previous curve, how our model has top left peak, due to its superior performance."
      ]
    },
    {
      "metadata": {
        "id": "VOsclL50630Q",
        "colab_type": "text"
      },
      "cell_type": "markdown",
      "source": [
        "---\n",
        "Now, let's see how these curve's are similiar to the ROC curve with scikit's implementation."
      ]
    },
    {
      "metadata": {
        "id": "azh7aCjE7Qid",
        "colab_type": "code",
        "colab": {}
      },
      "cell_type": "code",
      "source": [
        "FPRs, TPRs, _ = metrics.roc_curve(y_test, y_proba)"
      ],
      "execution_count": 0,
      "outputs": []
    },
    {
      "metadata": {
        "id": "L4-Eric87exv",
        "colab_type": "code",
        "colab": {
          "base_uri": "https://localhost:8080/",
          "height": 518
        },
        "outputId": "b6b4bf7b-1be4-4259-9950-077c36240c03"
      },
      "cell_type": "code",
      "source": [
        "# Plot the ROC curve\n",
        "plt.plot(FPRs, TPRs, color='red',\n",
        "         lw=2, label='ROC curve')\n",
        "plt.plot([0, 1], [0, 1], color='navy', lw=2, linestyle='--', label=\"Mean\")\n",
        "plt.xlim([-0.05, 1.0])\n",
        "plt.ylim([0.0, 1.05])\n",
        "plt.xlabel('False Positive Rate')\n",
        "plt.ylabel('True Positive Rate')\n",
        "plt.title(\"Scikit-learn's ROC curve\")\n",
        "plt.legend(loc=\"lower right\")\n",
        "plt.show()"
      ],
      "execution_count": 263,
      "outputs": [
        {
          "output_type": "display_data",
          "data": {
            "image/png": "[encoded data removed]",
            "text/plain": [
              "<matplotlib.figure.Figure at 0x7fb9695f4a90>"
            ]
          },
          "metadata": {
            "tags": []
          }
        }
      ]
    },
    {
      "metadata": {
        "id": "OHTRMD-57xM6",
        "colab_type": "code",
        "colab": {}
      },
      "cell_type": "code",
      "source": [
        "FPRs, TPRs, _ = metrics.roc_curve(y_test, rand_proba)  # passing random preds"
      ],
      "execution_count": 0,
      "outputs": []
    },
    {
      "metadata": {
        "id": "xYr2nKQm7yKI",
        "colab_type": "code",
        "colab": {
          "base_uri": "https://localhost:8080/",
          "height": 518
        },
        "outputId": "6c4aaf2e-972a-4a0f-b499-896efdd417c4"
      },
      "cell_type": "code",
      "source": [
        "# Plot the ROC curve\n",
        "plt.plot(FPRs, TPRs, color='red',\n",
        "         lw=2, label='ROC curve')\n",
        "plt.plot([0, 1], [0, 1], color='navy', lw=2, linestyle='--', label=\"Mean\")\n",
        "plt.xlim([-0.05, 1.0])\n",
        "plt.ylim([0.0, 1.05])\n",
        "plt.xlabel('False Positive Rate')\n",
        "plt.ylabel('True Positive Rate')\n",
        "plt.title(\"Scikit-learn's Random Predictions ROC curve\")\n",
        "plt.legend(loc=\"lower right\")\n",
        "plt.show()"
      ],
      "execution_count": 265,
      "outputs": [
        {
          "output_type": "display_data",
          "data": {
            "image/png": "[encoded data removed]",
            "text/plain": [
              "<matplotlib.figure.Figure at 0x7fb96951cc18>"
            ]
          },
          "metadata": {
            "tags": []
          }
        }
      ]
    },
    {
      "metadata": {
        "id": "wcQXLrk68FC1",
        "colab_type": "text"
      },
      "cell_type": "markdown",
      "source": [
        "### ROC-AUC score\n",
        "Now, that we know about ROC curve, what it represents, **AUC score** is very easy to understand.  \n",
        "AUC stands for **Area under the Curve**, which is nothing but the area under the ROC curve formed by the predictions.  \n",
        "As we saw, a totally random prediction will have AUC score `0.5`, while a perfect classifier will have AUC score of `1`. "
      ]
    },
    {
      "metadata": {
        "id": "JETH5mgtIs9Y",
        "colab_type": "text"
      },
      "cell_type": "markdown",
      "source": [
        "Lets check the AUC score of our model."
      ]
    },
    {
      "metadata": {
        "id": "pQmvuU9AKUvm",
        "colab_type": "code",
        "colab": {
          "base_uri": "https://localhost:8080/",
          "height": 34
        },
        "outputId": "faacd713-16de-49d2-8b18-1dcceb51558e"
      },
      "cell_type": "code",
      "source": [
        "auc_score = metrics.roc_auc_score(y_test, y_proba)\n",
        "print(f\"ROC-AUC score of SVC model is {auc_score: 4f}\")"
      ],
      "execution_count": 266,
      "outputs": [
        {
          "output_type": "stream",
          "text": [
            "ROC-AUC score of SVC model is  0.987200\n"
          ],
          "name": "stdout"
        }
      ]
    },
    {
      "metadata": {
        "id": "54g1PC2jK0MS",
        "colab_type": "text"
      },
      "cell_type": "markdown",
      "source": [
        "This is a good ROC-AUC score as we expected.  \n",
        "Lets try the ROC-AUC score of random predictions."
      ]
    },
    {
      "metadata": {
        "id": "p0970PIaLBYj",
        "colab_type": "code",
        "colab": {
          "base_uri": "https://localhost:8080/",
          "height": 34
        },
        "outputId": "1450963a-811f-4c51-e10a-864050b7a2ca"
      },
      "cell_type": "code",
      "source": [
        "auc_score = metrics.roc_auc_score(y_test, rand_proba)\n",
        "print(f\"ROC-AUC score of random predictions is {auc_score: .4f}\")"
      ],
      "execution_count": 267,
      "outputs": [
        {
          "output_type": "stream",
          "text": [
            "ROC-AUC score of random predictions is  0.5111\n"
          ],
          "name": "stdout"
        }
      ]
    },
    {
      "metadata": {
        "id": "Ara7jLPbLPXQ",
        "colab_type": "text"
      },
      "cell_type": "markdown",
      "source": [
        "As expected, it is close to `0.5`."
      ]
    }
  ]
}